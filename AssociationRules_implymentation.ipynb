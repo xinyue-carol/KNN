{
  "nbformat": 4,
  "nbformat_minor": 0,
  "metadata": {
    "colab": {
      "name": "Copy of Copy of Week11_AssociationRules",
      "provenance": [],
      "collapsed_sections": []
    },
    "kernelspec": {
      "name": "python3",
      "display_name": "Python 3"
    },
    "language_info": {
      "name": "python"
    }
  },
  "cells": [
    {
      "cell_type": "markdown",
      "metadata": {
        "id": "81RzJY0eAYxL"
      },
      "source": [
        "# Mining Association Rules\n",
        "\n",
        "In this project, we will analyze [a data set about online browsing behavior](http://snap.stanford.edu/class/cs246-data/browsing.txt), and identify significant association rules among the items. Each line represents a browsing session of a customer, and each item is represented by a string of 8 characters.\n",
        "\n",
        "We will implement the A Priori algorithm with PySpark. The goal is to find significant association rules with $s\\ge 100$ and high confidence scores."
      ]
    },
    {
      "cell_type": "code",
      "metadata": {
        "id": "F4zc0x18civq",
        "colab": {
          "base_uri": "https://localhost:8080/"
        },
        "outputId": "9c2ea0c0-92b3-4793-e472-cf6c01a281e3"
      },
      "source": [
        "# Install Spark\n",
        "# https://github.com/twistedmove/CS246/blob/master/hw1/hw1.pdf\n",
        "# https://github.com/wrwwctb/Stanford-CS246-2018-2019-winter/blob/master/completed/1_2_de.py\n",
        "# https://github.com/twistedmove/CS246/blob/master/hw1/hw1q2/h1q2.py\n",
        "!pip install pyspark\n"
      ],
      "execution_count": null,
      "outputs": [
        {
          "output_type": "stream",
          "text": [
            "Collecting pyspark\n",
            "\u001b[?25l  Downloading https://files.pythonhosted.org/packages/45/b0/9d6860891ab14a39d4bddf80ba26ce51c2f9dc4805e5c6978ac0472c120a/pyspark-3.1.1.tar.gz (212.3MB)\n",
            "\u001b[K     |████████████████████████████████| 212.3MB 68kB/s \n",
            "\u001b[?25hCollecting py4j==0.10.9\n",
            "\u001b[?25l  Downloading https://files.pythonhosted.org/packages/9e/b6/6a4fb90cd235dc8e265a6a2067f2a2c99f0d91787f06aca4bcf7c23f3f80/py4j-0.10.9-py2.py3-none-any.whl (198kB)\n",
            "\u001b[K     |████████████████████████████████| 204kB 36.2MB/s \n",
            "\u001b[?25hBuilding wheels for collected packages: pyspark\n",
            "  Building wheel for pyspark (setup.py) ... \u001b[?25l\u001b[?25hdone\n",
            "  Created wheel for pyspark: filename=pyspark-3.1.1-py2.py3-none-any.whl size=212767604 sha256=aee8d7196f4a60ef3a634d0c476471ee39d17a461bffd1e6829546b73c68215e\n",
            "  Stored in directory: /root/.cache/pip/wheels/0b/90/c0/01de724414ef122bd05f056541fb6a0ecf47c7ca655f8b3c0f\n",
            "Successfully built pyspark\n",
            "Installing collected packages: py4j, pyspark\n",
            "Successfully installed py4j-0.10.9 pyspark-3.1.1\n"
          ],
          "name": "stdout"
        }
      ]
    },
    {
      "cell_type": "code",
      "metadata": {
        "id": "ThSAH9isdaOq",
        "colab": {
          "base_uri": "https://localhost:8080/"
        },
        "outputId": "9076d785-f7ba-4682-b06b-e6eae27ac6e5"
      },
      "source": [
        "# Download the browsing data\n",
        "!wget http://snap.stanford.edu/class/cs246-data/browsing.txt"
      ],
      "execution_count": null,
      "outputs": [
        {
          "output_type": "stream",
          "text": [
            "--2021-04-29 18:40:18--  http://snap.stanford.edu/class/cs246-data/browsing.txt\n",
            "Resolving snap.stanford.edu (snap.stanford.edu)... 171.64.75.80\n",
            "Connecting to snap.stanford.edu (snap.stanford.edu)|171.64.75.80|:80... connected.\n",
            "HTTP request sent, awaiting response... 200 OK\n",
            "Length: 3458517 (3.3M) [text/plain]\n",
            "Saving to: ‘browsing.txt’\n",
            "\n",
            "browsing.txt        100%[===================>]   3.30M   947KB/s    in 3.6s    \n",
            "\n",
            "2021-04-29 18:40:22 (947 KB/s) - ‘browsing.txt’ saved [3458517/3458517]\n",
            "\n"
          ],
          "name": "stdout"
        }
      ]
    },
    {
      "cell_type": "code",
      "metadata": {
        "id": "yxSgtSzLdsw4"
      },
      "source": [
        "# Create a Spark context\n",
        "import pyspark\n",
        "\n",
        "sc = pyspark.SparkContext()\n"
      ],
      "execution_count": null,
      "outputs": []
    },
    {
      "cell_type": "code",
      "metadata": {
        "id": "v17M75mbeSqa",
        "colab": {
          "base_uri": "https://localhost:8080/"
        },
        "outputId": "35c8b969-d035-4120-e5c1-7d14de220216"
      },
      "source": [
        "# Load the data file as an RDD object\n",
        "lines = sc.textFile('browsing.txt')\n",
        "baskets = lines.map(lambda l: l.split())\n",
        "N = baskets.count()\n",
        "print(\"N:\", N)#how many lines are there"
      ],
      "execution_count": null,
      "outputs": [
        {
          "output_type": "stream",
          "text": [
            "N: 31101\n"
          ],
          "name": "stdout"
        }
      ]
    },
    {
      "cell_type": "code",
      "metadata": {
        "id": "EvIhn_djHSva"
      },
      "source": [
        "#ret.append((tuple(sorted((basket[j], basket[i]))), 1))\n"
      ],
      "execution_count": null,
      "outputs": []
    },
    {
      "cell_type": "code",
      "metadata": {
        "id": "f1HM0uzaeWup",
        "colab": {
          "base_uri": "https://localhost:8080/"
        },
        "outputId": "d3c59273-b3de-45dd-80fb-46f3ad8796fb"
      },
      "source": [
        "baskets = baskets.map(lambda b: sorted(set(b)))\n",
        "baskets.take(5)"
      ],
      "execution_count": null,
      "outputs": [
        {
          "output_type": "execute_result",
          "data": {
            "text/plain": [
              "[['ELE17451', 'ELE89019', 'FRO11987', 'GRO99222', 'SNA90258'],\n",
              " ['ELE17451',\n",
              "  'ELE26917',\n",
              "  'ELE52966',\n",
              "  'ELE91550',\n",
              "  'FRO12685',\n",
              "  'FRO84225',\n",
              "  'FRO90334',\n",
              "  'GRO12298',\n",
              "  'GRO99222',\n",
              "  'SNA11465',\n",
              "  'SNA30755',\n",
              "  'SNA80192'],\n",
              " ['DAI22896', 'ELE17451', 'FRO86643', 'GRO73461', 'SNA99873'],\n",
              " ['ELE17451', 'ELE23393', 'ELE37798', 'FRO86643', 'GRO56989', 'SNA11465'],\n",
              " ['DAI54444',\n",
              "  'ELE11375',\n",
              "  'ELE17451',\n",
              "  'ELE28573',\n",
              "  'FRO78087',\n",
              "  'FRO86643',\n",
              "  'GRO39357',\n",
              "  'SNA11465',\n",
              "  'SNA69641']]"
            ]
          },
          "metadata": {
            "tags": []
          },
          "execution_count": 50
        }
      ]
    },
    {
      "cell_type": "code",
      "metadata": {
        "id": "OUv-Mn4WeZld"
      },
      "source": [
        "def singles_helper(basket):\n",
        "    ret = []\n",
        "    for item in basket:\n",
        "        ret.append((item, 1))\n",
        "    return ret"
      ],
      "execution_count": null,
      "outputs": []
    },
    {
      "cell_type": "code",
      "metadata": {
        "id": "eOSDZMWOK6sr",
        "colab": {
          "base_uri": "https://localhost:8080/"
        },
        "outputId": "93d6b077-3f40-4559-e976-46b9034d8d58"
      },
      "source": [
        "singles_support = baskets.flatMap(singles_helper)\n",
        "singles_support.take(5)"
      ],
      "execution_count": null,
      "outputs": [
        {
          "output_type": "execute_result",
          "data": {
            "text/plain": [
              "[('ELE17451', 1),\n",
              " ('ELE89019', 1),\n",
              " ('FRO11987', 1),\n",
              " ('GRO99222', 1),\n",
              " ('SNA90258', 1)]"
            ]
          },
          "metadata": {
            "tags": []
          },
          "execution_count": 52
        }
      ]
    },
    {
      "cell_type": "code",
      "metadata": {
        "id": "znsSujTWK_52",
        "colab": {
          "base_uri": "https://localhost:8080/"
        },
        "outputId": "e149d4e4-0840-4337-b746-d3406017c6d1"
      },
      "source": [
        "singles_support = singles_support.reduceByKey(lambda x, y: x + y)\n",
        "singles_support.take(5)"
      ],
      "execution_count": null,
      "outputs": [
        {
          "output_type": "execute_result",
          "data": {
            "text/plain": [
              "[('FRO11987', 104),\n",
              " ('SNA90258', 550),\n",
              " ('ELE52966', 380),\n",
              " ('ELE91550', 23),\n",
              " ('FRO84225', 74)]"
            ]
          },
          "metadata": {
            "tags": []
          },
          "execution_count": 53
        }
      ]
    },
    {
      "cell_type": "code",
      "metadata": {
        "id": "1cjY2vW4LG6p",
        "colab": {
          "base_uri": "https://localhost:8080/"
        },
        "outputId": "8ba7a2dd-47c8-4871-bee6-fc4b3a8c695a"
      },
      "source": [
        "print(singles_support.count())\n",
        "singles_support = singles_support.filter(lambda x: x[1] >= 100)\n",
        "print(singles_support.count())"
      ],
      "execution_count": null,
      "outputs": [
        {
          "output_type": "stream",
          "text": [
            "12592\n",
            "647\n"
          ],
          "name": "stdout"
        }
      ]
    },
    {
      "cell_type": "code",
      "metadata": {
        "id": "egjCuYXLS5S3"
      },
      "source": [
        "singles = dict(singles_support.collect())\n",
        "#singles"
      ],
      "execution_count": null,
      "outputs": []
    },
    {
      "cell_type": "code",
      "metadata": {
        "id": "__9x7wSPehU9"
      },
      "source": [
        "def doubles_helper(basket):\n",
        "    ret = []\n",
        "    for i in range(len(basket)):\n",
        "        if basket[i] in singles:\n",
        "            for j in range(i):\n",
        "                if basket[j] in singles:\n",
        "                    ret.append(((basket[j], basket[i]), 1)) # basket is sorted\n",
        "    return ret"
      ],
      "execution_count": null,
      "outputs": []
    },
    {
      "cell_type": "code",
      "metadata": {
        "id": "nTeVf6oJM9ps",
        "colab": {
          "base_uri": "https://localhost:8080/"
        },
        "outputId": "717298c5-c280-43ad-d4b9-2947a945c7a2"
      },
      "source": [
        "doubles_support = baskets.flatMap(doubles_helper)\n",
        "doubles_support.take(5)"
      ],
      "execution_count": null,
      "outputs": [
        {
          "output_type": "execute_result",
          "data": {
            "text/plain": [
              "[(('ELE17451', 'FRO11987'), 1),\n",
              " (('ELE17451', 'GRO99222'), 1),\n",
              " (('FRO11987', 'GRO99222'), 1),\n",
              " (('ELE17451', 'SNA90258'), 1),\n",
              " (('FRO11987', 'SNA90258'), 1)]"
            ]
          },
          "metadata": {
            "tags": []
          },
          "execution_count": 57
        }
      ]
    },
    {
      "cell_type": "code",
      "metadata": {
        "colab": {
          "base_uri": "https://localhost:8080/"
        },
        "id": "Dn7M0QyR_Ubr",
        "outputId": "361f641b-781b-41cc-c115-1ae8520b78be"
      },
      "source": [
        "doubles_support = doubles_support.reduceByKey(lambda x, y: x + y)\n",
        "doubles_support.take(5)"
      ],
      "execution_count": null,
      "outputs": [
        {
          "output_type": "execute_result",
          "data": {
            "text/plain": [
              "[(('ELE17451', 'GRO99222'), 148),\n",
              " (('FRO11987', 'SNA90258'), 2),\n",
              " (('ELE17451', 'ELE26917'), 314),\n",
              " (('ELE17451', 'GRO12298'), 36),\n",
              " (('ELE26917', 'GRO12298'), 17)]"
            ]
          },
          "metadata": {
            "tags": []
          },
          "execution_count": 58
        }
      ]
    },
    {
      "cell_type": "code",
      "metadata": {
        "id": "_K_c8DD4ejxT",
        "colab": {
          "base_uri": "https://localhost:8080/"
        },
        "outputId": "3287ccdf-3185-46ca-9ebe-98d6965fb899"
      },
      "source": [
        "print(doubles_support.count())\n",
        "doubles_support = doubles_support.filter(lambda x: x[1] >= 100)\n",
        "print(doubles_support.count())"
      ],
      "execution_count": null,
      "outputs": [
        {
          "output_type": "stream",
          "text": [
            "149097\n",
            "1334\n"
          ],
          "name": "stdout"
        }
      ]
    },
    {
      "cell_type": "code",
      "metadata": {
        "id": "DKxs1geSenod"
      },
      "source": [
        "def confidence_doubles_helper(double_support):\n",
        "    double, support = double_support\n",
        "    support = float(support)\n",
        "    u, v = double\n",
        "    uv_conf = support / singles[u]\n",
        "    vu_conf = support / singles[v]\n",
        "    return (('%s -> %s' % (u, v), uv_conf),\n",
        "            ('%s -> %s' % (v, u), vu_conf))"
      ],
      "execution_count": null,
      "outputs": []
    },
    {
      "cell_type": "code",
      "metadata": {
        "id": "k_p6HXSRNgCs",
        "colab": {
          "base_uri": "https://localhost:8080/"
        },
        "outputId": "d783d712-1013-4882-f53c-a51e9622aaf0"
      },
      "source": [
        "doubles_conf = doubles_support.flatMap(confidence_doubles_helper)\n",
        "doubles_conf.take(5)"
      ],
      "execution_count": null,
      "outputs": [
        {
          "output_type": "execute_result",
          "data": {
            "text/plain": [
              "[('ELE17451 -> GRO99222', 0.03819354838709677),\n",
              " ('GRO99222 -> ELE17451', 0.16335540838852097),\n",
              " ('ELE17451 -> ELE26917', 0.08103225806451612),\n",
              " ('ELE26917 -> ELE17451', 0.13699825479930192),\n",
              " ('ELE26917 -> GRO99222', 0.08376963350785341)]"
            ]
          },
          "metadata": {
            "tags": []
          },
          "execution_count": 61
        }
      ]
    },
    {
      "cell_type": "code",
      "metadata": {
        "id": "jluLZAXlepet",
        "colab": {
          "base_uri": "https://localhost:8080/"
        },
        "outputId": "4fbe7963-d4f7-4858-8733-4501b8bb1ac0"
      },
      "source": [
        "doubles_conf = doubles_conf.sortBy(lambda x: (-x[1], x[0]))\n",
        "doubles_conf.take(5)"
      ],
      "execution_count": null,
      "outputs": [
        {
          "output_type": "execute_result",
          "data": {
            "text/plain": [
              "[('DAI93865 -> FRO40251', 1.0),\n",
              " ('GRO85051 -> FRO40251', 0.999176276771005),\n",
              " ('GRO38636 -> FRO40251', 0.9906542056074766),\n",
              " ('ELE12951 -> FRO40251', 0.9905660377358491),\n",
              " ('DAI88079 -> FRO40251', 0.9867256637168141)]"
            ]
          },
          "metadata": {
            "tags": []
          },
          "execution_count": 62
        }
      ]
    },
    {
      "cell_type": "code",
      "metadata": {
        "id": "GNu1x2Mv0_qt"
      },
      "source": [
        ""
      ],
      "execution_count": null,
      "outputs": []
    },
    {
      "cell_type": "markdown",
      "metadata": {
        "id": "Y3WopDoqgUCP"
      },
      "source": [
        "List the top 5 association rules with highest confidence scores for itemsets of size 3. steps are as following:\n",
        "\n",
        "1. Create a list of candidate 3-item sets by merging two frequent item pairs. Two item pairs can generate a 3-item set if they have one element in common.\n",
        "2. Read the data again so that the frequency of those candidate sets can be counted. This step should be done using the MapReduce model.\n",
        "3. Remove those candidates who don't reach the support threshold $s=100$.\n",
        "4. Compute the confidence value for the remaining sets, and output the top 5 itemsets.\n"
      ]
    },
    {
      "cell_type": "code",
      "metadata": {
        "id": "kl5sBbNb_HxL"
      },
      "source": [
        "doubles = dict(doubles_support.collect())\n",
        "doubles"
      ],
      "execution_count": null,
      "outputs": []
    },
    {
      "cell_type": "code",
      "metadata": {
        "id": "6vxXNkB-VQHL"
      },
      "source": [
        "def triple_helper(basket):\n",
        "    ret = []\n",
        "    for i in range(len(basket)):\n",
        "        if basket[i] in singles:\n",
        "            for j in range(i):\n",
        "                if basket[j] in singles:\n",
        "                  for k in range(j):\n",
        "                    if basket[k] in singles:\n",
        "                      ret.append((tuple(sorted([basket[k], basket[j], basket[i]])), 1)) # basket is sorted\n",
        "    return ret\n"
      ],
      "execution_count": null,
      "outputs": []
    },
    {
      "cell_type": "code",
      "metadata": {
        "id": "lmFLHedRVPoW",
        "colab": {
          "base_uri": "https://localhost:8080/"
        },
        "outputId": "1d9c0b54-43aa-46c6-ef51-aee582d1c6df"
      },
      "source": [
        "triple_support = baskets.flatMap(triple_helper)\n",
        "triple_support.take(6)"
      ],
      "execution_count": null,
      "outputs": [
        {
          "output_type": "execute_result",
          "data": {
            "text/plain": [
              "[(('ELE17451', 'FRO11987', 'GRO99222'), 1),\n",
              " (('ELE17451', 'FRO11987', 'SNA90258'), 1),\n",
              " (('ELE17451', 'GRO99222', 'SNA90258'), 1),\n",
              " (('FRO11987', 'GRO99222', 'SNA90258'), 1),\n",
              " (('ELE17451', 'ELE26917', 'ELE52966'), 1),\n",
              " (('ELE17451', 'ELE26917', 'GRO12298'), 1)]"
            ]
          },
          "metadata": {
            "tags": []
          },
          "execution_count": 65
        }
      ]
    },
    {
      "cell_type": "code",
      "metadata": {
        "colab": {
          "base_uri": "https://localhost:8080/"
        },
        "id": "Dry92i-_t4bW",
        "outputId": "ef460ff9-d0fc-4184-b711-290d9f5a02a2"
      },
      "source": [
        "triple_support = triple_support.reduceByKey(lambda x, y: x + y)\n",
        "triple_support.take(5)"
      ],
      "execution_count": null,
      "outputs": [
        {
          "output_type": "execute_result",
          "data": {
            "text/plain": [
              "[(('ELE17451', 'FRO11987', 'SNA90258'), 1),\n",
              " (('FRO11987', 'GRO99222', 'SNA90258'), 1),\n",
              " (('ELE17451', 'ELE26917', 'GRO12298'), 1),\n",
              " (('ELE17451', 'ELE26917', 'GRO99222'), 32),\n",
              " (('ELE17451', 'GRO12298', 'GRO99222'), 2)]"
            ]
          },
          "metadata": {
            "tags": []
          },
          "execution_count": 66
        }
      ]
    },
    {
      "cell_type": "code",
      "metadata": {
        "colab": {
          "base_uri": "https://localhost:8080/"
        },
        "id": "rFGlkwvLt4TV",
        "outputId": "987d7948-9479-4de3-d6be-39eafcf7ca31"
      },
      "source": [
        "print(triple_support.count())\n",
        "triple_support = triple_support.filter(lambda x: x[1] >= 100)\n",
        "print(triple_support.count())"
      ],
      "execution_count": null,
      "outputs": [
        {
          "output_type": "stream",
          "text": [
            "2790766\n",
            "233\n"
          ],
          "name": "stdout"
        }
      ]
    },
    {
      "cell_type": "code",
      "metadata": {
        "id": "SYKn4mxyw4oR"
      },
      "source": [
        "def confidence_Triple_helper(triple_support):\n",
        "    triple, support = triple_support\n",
        "    support = float(support)\n",
        "    x,y,z = triple\n",
        "    x_conf = support / singles[x]\n",
        "    y_conf = support / singles[y]\n",
        "    z_conf = support / singles[z]\n",
        "    xy_conf = support / doubles[(x,y)]\n",
        "    xz_conf = support / doubles[(x,z)]\n",
        "    yz_conf = support / doubles[(y,z)]\n",
        "    return (('%s -> %s' % (x, (y,z)), x_conf),\n",
        "            ('%s -> %s'% (y, (x,z)), y_conf),\n",
        "            ('%s -> %s'% (z, (x,y)), z_conf),\n",
        "            ('%s -> %s'% ((x,y), z), xy_conf),\n",
        "            ('%s -> %s'% ((x,z), y), xz_conf),\n",
        "            ('%s -> %s'% ((y,z), x), yz_conf)\n",
        "            )"
      ],
      "execution_count": null,
      "outputs": []
    },
    {
      "cell_type": "code",
      "metadata": {
        "colab": {
          "base_uri": "https://localhost:8080/"
        },
        "id": "lFi1RqJR0P1h",
        "outputId": "4e79eac6-a9da-4ef5-9a5f-14a73c0b4d19"
      },
      "source": [
        "triple_conf = triple_support.flatMap(confidence_Triple_helper)\n",
        "triple_conf.take(5)"
      ],
      "execution_count": null,
      "outputs": [
        {
          "output_type": "execute_result",
          "data": {
            "text/plain": [
              "[(\"ELE17451 -> ('SNA59903', 'SNA72163')\", 0.0327741935483871),\n",
              " (\"SNA59903 -> ('ELE17451', 'SNA72163')\", 0.1425364758698092),\n",
              " (\"SNA72163 -> ('ELE17451', 'SNA59903')\", 0.11651376146788991),\n",
              " (\"('ELE17451', 'SNA59903') -> SNA72163\", 0.36182336182336183),\n",
              " (\"('ELE17451', 'SNA72163') -> SNA59903\", 0.46691176470588236)]"
            ]
          },
          "metadata": {
            "tags": []
          },
          "execution_count": 69
        }
      ]
    },
    {
      "cell_type": "code",
      "metadata": {
        "colab": {
          "base_uri": "https://localhost:8080/"
        },
        "id": "fzC_1eGk-hct",
        "outputId": "23c6b59d-73db-442a-bbc1-162fa7ea835d"
      },
      "source": [
        "triple_conf_sort= triple_conf.sortBy(lambda x: (-x[1], x[0]))\n",
        "triple_conf_sort.take(5)"
      ],
      "execution_count": null,
      "outputs": [
        {
          "output_type": "execute_result",
          "data": {
            "text/plain": [
              "[(\"('DAI23334', 'ELE92920') -> DAI62779\", 1.0),\n",
              " (\"('DAI31081', 'GRO85051') -> FRO40251\", 1.0),\n",
              " (\"('DAI55911', 'GRO85051') -> FRO40251\", 1.0),\n",
              " (\"('DAI62779', 'DAI88079') -> FRO40251\", 1.0),\n",
              " (\"('DAI75645', 'GRO85051') -> FRO40251\", 1.0)]"
            ]
          },
          "metadata": {
            "tags": []
          },
          "execution_count": 70
        }
      ]
    },
    {
      "cell_type": "code",
      "metadata": {
        "id": "RIjTQ5Xm17SY"
      },
      "source": [
        ""
      ],
      "execution_count": null,
      "outputs": []
    }
  ]
}